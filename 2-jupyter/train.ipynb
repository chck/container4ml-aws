{
 "cells": [
  {
   "cell_type": "markdown",
   "id": "21edadf4-1607-4aae-8888-622544f69cf9",
   "metadata": {},
   "source": [
    "## UserAgent Classifier\n",
    "data: https://gist.github.com/pzb/b4b6f57144aea7827ae4"
   ]
  },
  {
   "cell_type": "code",
   "execution_count": 1,
   "id": "a7c1a312-5f0d-4882-964d-02891d5d2808",
   "metadata": {
    "tags": []
   },
   "outputs": [
    {
     "data": {
      "text/html": [
       "<div>\n",
       "<style scoped>\n",
       "    .dataframe tbody tr th:only-of-type {\n",
       "        vertical-align: middle;\n",
       "    }\n",
       "\n",
       "    .dataframe tbody tr th {\n",
       "        vertical-align: top;\n",
       "    }\n",
       "\n",
       "    .dataframe thead th {\n",
       "        text-align: right;\n",
       "    }\n",
       "</style>\n",
       "<table border=\"1\" class=\"dataframe\">\n",
       "  <thead>\n",
       "    <tr style=\"text-align: right;\">\n",
       "      <th></th>\n",
       "      <th>useragent</th>\n",
       "      <th>target</th>\n",
       "    </tr>\n",
       "  </thead>\n",
       "  <tbody>\n",
       "    <tr>\n",
       "      <th>715</th>\n",
       "      <td>Mozilla/5.0 (Windows NT 6.1; WOW64) AppleWebKi...</td>\n",
       "      <td>__label__pc</td>\n",
       "    </tr>\n",
       "    <tr>\n",
       "      <th>643</th>\n",
       "      <td>Mozilla/5.0 (X11; Ubuntu; Linux i686; rv:39.0)...</td>\n",
       "      <td>__label__pc</td>\n",
       "    </tr>\n",
       "    <tr>\n",
       "      <th>54</th>\n",
       "      <td>Mozilla/5.0 (iPad; CPU OS 7_1_1 like Mac OS X)...</td>\n",
       "      <td>__label__mobile</td>\n",
       "    </tr>\n",
       "    <tr>\n",
       "      <th>808</th>\n",
       "      <td>Mozilla/4.0 (compatible; MSIE 8.0; Windows NT ...</td>\n",
       "      <td>__label__pc</td>\n",
       "    </tr>\n",
       "    <tr>\n",
       "      <th>419</th>\n",
       "      <td>Mozilla/5.0 (Windows NT 6.3; WOW64) AppleWebKi...</td>\n",
       "      <td>__label__pc</td>\n",
       "    </tr>\n",
       "  </tbody>\n",
       "</table>\n",
       "</div>"
      ],
      "text/plain": [
       "                                             useragent           target\n",
       "715  Mozilla/5.0 (Windows NT 6.1; WOW64) AppleWebKi...      __label__pc\n",
       "643  Mozilla/5.0 (X11; Ubuntu; Linux i686; rv:39.0)...      __label__pc\n",
       "54   Mozilla/5.0 (iPad; CPU OS 7_1_1 like Mac OS X)...  __label__mobile\n",
       "808  Mozilla/4.0 (compatible; MSIE 8.0; Windows NT ...      __label__pc\n",
       "419  Mozilla/5.0 (Windows NT 6.3; WOW64) AppleWebKi...      __label__pc"
      ]
     },
     "execution_count": 1,
     "metadata": {},
     "output_type": "execute_result"
    }
   ],
   "source": [
    "from urllib.request import urlopen\n",
    "from io import BytesIO\n",
    "import pandas as pd\n",
    "from user_agents import parse\n",
    "\n",
    "raw = \"https://gist.githubusercontent.com/pzb/b4b6f57144aea7827ae4/raw/cf847b76a142955b1410c8bcef3aabe221a63db1/user-agents.txt\"\n",
    "\n",
    "def make_target(row):\n",
    "    parsed = parse(row)\n",
    "    if parsed.is_pc:\n",
    "        return \"__label__pc\"\n",
    "    # elif parsed.is_tablet:\n",
    "    #     return \"__label__tablet\"\n",
    "    else:\n",
    "        return \"__label__mobile\"\n",
    "\n",
    "df = (\n",
    "    pd.read_csv(BytesIO(urlopen(raw).read()), sep='\\t', names=['useragent'])\n",
    "    .assign(target=lambda df: df.useragent.apply(make_target))\n",
    ")[[\n",
    "    'useragent', 'target'\n",
    "]]\n",
    "df.sample(5)"
   ]
  },
  {
   "cell_type": "code",
   "execution_count": 2,
   "id": "79cd89e4-bde4-44ff-b1cb-b16fee8d6825",
   "metadata": {},
   "outputs": [
    {
     "data": {
      "text/plain": [
       "<Axes: >"
      ]
     },
     "execution_count": 2,
     "metadata": {},
     "output_type": "execute_result"
    },
    {
     "data": {
      "image/png": "[encoded data removed]",
      "text/plain": [
       "<Figure size 640x480 with 1 Axes>"
      ]
     },
     "metadata": {},
     "output_type": "display_data"
    }
   ],
   "source": [
    "df.target.hist()"
   ]
  },
  {
   "cell_type": "code",
   "execution_count": 3,
   "id": "02f64559-e115-4066-95ed-c411ebcfa226",
   "metadata": {},
   "outputs": [
    {
     "data": {
      "text/plain": [
       "(800, 200)"
      ]
     },
     "execution_count": 3,
     "metadata": {},
     "output_type": "execute_result"
    }
   ],
   "source": [
    "from sklearn.model_selection import train_test_split\n",
    "\n",
    "train_idx, test_idx = train_test_split(df.index, test_size=0.2, random_state=2021)\n",
    "train_idx.size, test_idx.size"
   ]
  },
  {
   "cell_type": "code",
   "execution_count": 4,
   "id": "efcaadf2-49a1-465f-abe6-fb1b4cd79de1",
   "metadata": {},
   "outputs": [],
   "source": [
    "train_df = df.iloc[train_idx]\n",
    "test_df = df.iloc[test_idx]\n",
    "train_df.to_csv('train.tsv', sep='\\t', index=False, header=None)\n",
    "test_df.to_csv('test.tsv', sep='\\t', index=False, header=None)"
   ]
  },
  {
   "cell_type": "code",
   "execution_count": 5,
   "id": "2836df31-4280-4f75-9855-799335c0e406",
   "metadata": {},
   "outputs": [
    {
     "name": "stdout",
     "output_type": "stream",
     "text": [
      "CPU times: user 30.5 ms, sys: 31.3 ms, total: 61.8 ms\n",
      "Wall time: 150 ms\n"
     ]
    },
    {
     "name": "stderr",
     "output_type": "stream",
     "text": [
      "Read 0M words\n",
      "Number of words:  683\n",
      "Number of labels: 2\n",
      "Progress: 100.0% words/sec/thread:   80847 lr:  0.000000 avg.loss:  0.206804 ETA:   0h 0m 0s\n"
     ]
    }
   ],
   "source": [
    "%%time\n",
    "import fasttext\n",
    "\n",
    "model = fasttext.train_supervised(input=\"train.tsv\")"
   ]
  },
  {
   "cell_type": "code",
   "execution_count": 6,
   "id": "c6fd4ee1-b31d-4956-ba68-330a60127bbc",
   "metadata": {},
   "outputs": [
    {
     "name": "stdout",
     "output_type": "stream",
     "text": [
      "Mozilla/5.0 (Macintosh; Intel Mac OS X 10.9; rv:34.0) Gecko/20100101 Firefox/34.0\n"
     ]
    },
    {
     "data": {
      "text/plain": [
       "(('__label__pc',), array([0.9871068]))"
      ]
     },
     "execution_count": 6,
     "metadata": {},
     "output_type": "execute_result"
    }
   ],
   "source": [
    "sample_ua = test_df.sample().useragent.values[0]\n",
    "print(sample_ua)\n",
    "model.predict(sample_ua)"
   ]
  },
  {
   "cell_type": "code",
   "execution_count": 7,
   "id": "5b45afb1-b33c-4ded-9d64-85e34156892c",
   "metadata": {},
   "outputs": [],
   "source": [
    "y_pred, y_proba = model.predict(test_df.useragent.values.tolist())"
   ]
  },
  {
   "cell_type": "code",
   "execution_count": 8,
   "id": "abb22fb8-16ad-4835-b62e-4e80ad133e3f",
   "metadata": {
    "tags": []
   },
   "outputs": [
    {
     "name": "stdout",
     "output_type": "stream",
     "text": [
      "                 precision    recall  f1-score   support\n",
      "\n",
      "__label__mobile       1.00      0.97      0.99        40\n",
      "    __label__pc       0.99      1.00      1.00       160\n",
      "\n",
      "       accuracy                           0.99       200\n",
      "      macro avg       1.00      0.99      0.99       200\n",
      "   weighted avg       1.00      0.99      0.99       200\n",
      "\n"
     ]
    }
   ],
   "source": [
    "from sklearn.metrics import classification_report\n",
    "\n",
    "print(classification_report(\n",
    "    test_df.target.values, \n",
    "    y_pred))"
   ]
  },
  {
   "cell_type": "code",
   "execution_count": 17,
   "id": "e198a777-ce58-4a01-a343-0e27da8ad636",
   "metadata": {
    "tags": []
   },
   "outputs": [
    {
     "name": "stdout",
     "output_type": "stream",
     "text": [
      "ua_classifier.bin\n"
     ]
    }
   ],
   "source": [
    "model.save_model(\"ua_classifier.bin\")\n",
    "!ls *.bin"
   ]
  }
 ],
 "metadata": {
  "kernelspec": {
   "display_name": "Python 3 (ipykernel)",
   "language": "python",
   "name": "python3"
  },
  "language_info": {
   "codemirror_mode": {
    "name": "ipython",
    "version": 3
   },
   "file_extension": ".py",
   "mimetype": "text/x-python",
   "name": "python",
   "nbconvert_exporter": "python",
   "pygments_lexer": "ipython3",
   "version": "3.9.16"
  }
 },
 "nbformat": 4,
 "nbformat_minor": 5
}
